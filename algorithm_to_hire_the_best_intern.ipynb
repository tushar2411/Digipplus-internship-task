{
  "cells": [
    {
      "cell_type": "markdown",
      "metadata": {
        "id": "view-in-github",
        "colab_type": "text"
      },
      "source": [
        "<a href=\"https://colab.research.google.com/github/tushar2411/Digipplus-internship-task/blob/main/algorithm_to_hire_the_best_intern.ipynb\" target=\"_parent\"><img src=\"https://colab.research.google.com/assets/colab-badge.svg\" alt=\"Open In Colab\"/></a>"
      ]
    },
    {
      "cell_type": "markdown",
      "id": "55faffcb",
      "metadata": {
        "id": "55faffcb"
      },
      "source": [
        "#Tushar Khairnar\n",
        "tusharykhairnar06@gmail.com\n",
        "\n",
        "8552030017\n"
      ]
    },
    {
      "cell_type": "markdown",
      "source": [
        "## Solution"
      ],
      "metadata": {
        "id": "ck-_6FYJisam"
      },
      "id": "ck-_6FYJisam"
    },
    {
      "cell_type": "markdown",
      "id": "5c8bacee",
      "metadata": {
        "id": "5c8bacee"
      },
      "source": [
        "1. Efficient Candidate Filtering: In this initial round of internship candidate selection, my primary focus was to streamline the process by reducing the number of candidates for the next round, ensuring a more manageable and targeted pool.\n",
        "\n",
        "2. Eliminating Null Values: To ensure data integrity and meaningful analysis, I removed columns with null values exceeding 50%. It's crucial to work with reliable data to draw accurate conclusions.\n",
        "\n",
        "3. Skill Average Calculation: By calculating the average skill level (Python, ML, DL, NLP) among all applicants, I identified a baseline proficiency standard to filter out candidates whose skills fall below this average.\n",
        "\n",
        "4. Skill-Based Filtering: Candidates whose skill levels were lower than the calculated average were filtered out, allowing for a more focused selection process and prioritizing candidates with stronger skill sets.\n",
        "\n",
        "5. Availability Assessment: Considering the internship's duration requirement of 3 months, I eliminated candidates who would not be available for the complete duration, ensuring that only suitable candidates progressed to the next stage.\n",
        "\n",
        "6. Significantly Reduced Candidate Pool: Through these filtering steps, the initial list of 1136 candidates was considerably reduced to a more manageable number of 200 candidates, representing an 82% reduction, leading to a more efficient selection process.\n",
        "\n",
        "7. Exploratory Data Analysis (EDA): Prior to building any machine learning models, I performed exploratory data analysis to gain insights into the dataset, identifying patterns, trends, and potential correlations that could inform subsequent decision-making.\n",
        "\n",
        "8. Absence of Training Data: Due to the absence of training data, I did not construct any machine learning models. However, in an assumed scenario with an output of 'selected' or 'not-selected' (1 or 0), a classification model such as Logistic Regression would have been suitable for the purpose of predicting candidate selection.\n",
        "\n",
        "By following these steps, we aimed to optimize the candidate selection process, ensure data integrity, and make informed decisions for the next round of internship candidate evaluation."
      ]
    },
    {
      "cell_type": "markdown",
      "id": "3ef2b071",
      "metadata": {
        "id": "3ef2b071"
      },
      "source": [
        "# Importing necessary libraries"
      ]
    },
    {
      "cell_type": "code",
      "execution_count": 1,
      "id": "59613c85",
      "metadata": {
        "id": "59613c85"
      },
      "outputs": [],
      "source": [
        "import numpy as np\n",
        "import pandas as pd\n",
        "\n",
        "import matplotlib.pyplot as plt\n",
        "import seaborn as sns\n",
        "\n",
        "import warnings\n",
        "warnings.filterwarnings(action=\"ignore\")\n"
      ]
    },
    {
      "cell_type": "markdown",
      "id": "d0c9421e",
      "metadata": {
        "id": "d0c9421e"
      },
      "source": [
        "# Reading the given excel file"
      ]
    },
    {
      "cell_type": "code",
      "source": [
        "from google.colab import drive\n",
        "drive.mount('/content/drive')"
      ],
      "metadata": {
        "colab": {
          "base_uri": "https://localhost:8080/"
        },
        "id": "tMTITgpwfaGS",
        "outputId": "c1db6406-f703-4275-a323-f85f501cc019"
      },
      "id": "tMTITgpwfaGS",
      "execution_count": 2,
      "outputs": [
        {
          "output_type": "stream",
          "name": "stdout",
          "text": [
            "Mounted at /content/drive\n"
          ]
        }
      ]
    },
    {
      "cell_type": "code",
      "execution_count": 4,
      "id": "c91a9049",
      "metadata": {
        "colab": {
          "base_uri": "https://localhost:8080/",
          "height": 1000
        },
        "id": "c91a9049",
        "outputId": "8cd63c25-f906-4f71-b8bc-09cabe7b80bf"
      },
      "outputs": [
        {
          "output_type": "execute_result",
          "data": {
            "text/plain": [
              "      Name  Python (out of 3)  Machine Learning (out of 3)  \\\n",
              "0      NaN                  1                            0   \n",
              "1      NaN                  2                            0   \n",
              "2      NaN                  2                            2   \n",
              "3      NaN                  3                            2   \n",
              "4      NaN                  2                            2   \n",
              "...    ...                ...                          ...   \n",
              "1131   NaN                  2                            2   \n",
              "1132   NaN                  3                            3   \n",
              "1133   NaN                  3                            1   \n",
              "1134   NaN                  2                            1   \n",
              "1135   NaN                  2                            0   \n",
              "\n",
              "      Natural Language Processing (NLP) (out of 3)  Deep Learning (out of 3)  \\\n",
              "0                                                0                         1   \n",
              "1                                                0                         0   \n",
              "2                                                0                         0   \n",
              "3                                                2                         0   \n",
              "4                                                0                         0   \n",
              "...                                            ...                       ...   \n",
              "1131                                             0                         2   \n",
              "1132                                             2                         3   \n",
              "1133                                             3                         3   \n",
              "1134                                             0                         0   \n",
              "1135                                             0                         0   \n",
              "\n",
              "                                           Other skills  \\\n",
              "0     MS-Excel, MS-Word, Deep Learning, MySQL, Pytho...   \n",
              "1     Git, GitHub, Linux, Adobe After Effects, Adobe...   \n",
              "2     Amazon Web Services (AWS), Docker, Hadoop, MS-...   \n",
              "3     Adobe XD, BIG DATA ANALYTICS, Canva, Data Anal...   \n",
              "4     C++ Programming, Data Science, Machine Learnin...   \n",
              "...                                                 ...   \n",
              "1131  Data Analytics, Amazon Web Services (AWS), Dat...   \n",
              "1132  Deep Learning, Docker, HTML, MS-Office, Machin...   \n",
              "1133  Data Science, Deep Learning, English Proficien...   \n",
              "1134  Python, Data Analytics, MS-Excel, Machine Lear...   \n",
              "1135  C++ Programming, Database Management System (D...   \n",
              "\n",
              "     Are you available for 3 months, starting immediately, for a full-time work from home internship?   \\\n",
              "0     Yes, I am available for 3 months starting imme...                                                  \n",
              "1     Yes, I am available for 3 months starting imme...                                                  \n",
              "2     Yes, I am available for 3 months starting imme...                                                  \n",
              "3     Yes, I am available for 3 months starting imme...                                                  \n",
              "4     Yes, I am available for 3 months starting imme...                                                  \n",
              "...                                                 ...                                                  \n",
              "1131  Yes, I am available for 3 months starting imme...                                                  \n",
              "1132  Yes, I am available for 3 months starting imme...                                                  \n",
              "1133  Yes, I am available for 3 months starting imme...                                                  \n",
              "1134  Yes, I am available for 3 months starting imme...                                                  \n",
              "1135  Yes, I am available for 3 months starting imme...                                                  \n",
              "\n",
              "                             Degree                          Stream  \\\n",
              "0     Bachelor of Vocation (B.Voc.)            Software Engineering   \n",
              "1                            B.Tech  Computer Science & Engineering   \n",
              "2          Master of Science (M.S.)      Data Science And Analytics   \n",
              "3     Bachelor of Engineering (B.E)                             NaN   \n",
              "4                            B.Tech                Computer Science   \n",
              "...                             ...                             ...   \n",
              "1131                         B.Tech          Mechanical Engineering   \n",
              "1132                         B.Tech  Computer Science & Engineering   \n",
              "1133                         B.Tech   Electronics and Communication   \n",
              "1134                         B.Tech                Computer Science   \n",
              "1135                         B.Tech                     Engineering   \n",
              "\n",
              "      Current Year Of Graduation Performance_PG Performance_UG Performance_12  \\\n",
              "0                           2021            NaN         6.50/7            NaN   \n",
              "1                           2024            NaN        8.90/10            NaN   \n",
              "2                           2022            NaN            NaN            NaN   \n",
              "3                           2024            NaN            NaN    85.60/85.60   \n",
              "4                           2023            NaN        8.10/10    93.40/93.40   \n",
              "...                          ...            ...            ...            ...   \n",
              "1131                        2021            NaN            NaN            NaN   \n",
              "1132                        2024            NaN            NaN            NaN   \n",
              "1133                        2025            NaN        8.77/10      9.40/9.40   \n",
              "1134                        2024            NaN        7.90/10    90.00/90.00   \n",
              "1135                        2024            NaN            NaN            NaN   \n",
              "\n",
              "     Performance_10  \n",
              "0               NaN  \n",
              "1               NaN  \n",
              "2               NaN  \n",
              "3       10.00/10.00  \n",
              "4       10.00/10.00  \n",
              "...             ...  \n",
              "1131            NaN  \n",
              "1132            NaN  \n",
              "1133            NaN  \n",
              "1134            NaN  \n",
              "1135            NaN  \n",
              "\n",
              "[1136 rows x 14 columns]"
            ],
            "text/html": [
              "\n",
              "  <div id=\"df-bdff10a7-0313-4da6-937b-952940cc101d\">\n",
              "    <div class=\"colab-df-container\">\n",
              "      <div>\n",
              "<style scoped>\n",
              "    .dataframe tbody tr th:only-of-type {\n",
              "        vertical-align: middle;\n",
              "    }\n",
              "\n",
              "    .dataframe tbody tr th {\n",
              "        vertical-align: top;\n",
              "    }\n",
              "\n",
              "    .dataframe thead th {\n",
              "        text-align: right;\n",
              "    }\n",
              "</style>\n",
              "<table border=\"1\" class=\"dataframe\">\n",
              "  <thead>\n",
              "    <tr style=\"text-align: right;\">\n",
              "      <th></th>\n",
              "      <th>Name</th>\n",
              "      <th>Python (out of 3)</th>\n",
              "      <th>Machine Learning (out of 3)</th>\n",
              "      <th>Natural Language Processing (NLP) (out of 3)</th>\n",
              "      <th>Deep Learning (out of 3)</th>\n",
              "      <th>Other skills</th>\n",
              "      <th>Are you available for 3 months, starting immediately, for a full-time work from home internship?</th>\n",
              "      <th>Degree</th>\n",
              "      <th>Stream</th>\n",
              "      <th>Current Year Of Graduation</th>\n",
              "      <th>Performance_PG</th>\n",
              "      <th>Performance_UG</th>\n",
              "      <th>Performance_12</th>\n",
              "      <th>Performance_10</th>\n",
              "    </tr>\n",
              "  </thead>\n",
              "  <tbody>\n",
              "    <tr>\n",
              "      <th>0</th>\n",
              "      <td>NaN</td>\n",
              "      <td>1</td>\n",
              "      <td>0</td>\n",
              "      <td>0</td>\n",
              "      <td>1</td>\n",
              "      <td>MS-Excel, MS-Word, Deep Learning, MySQL, Pytho...</td>\n",
              "      <td>Yes, I am available for 3 months starting imme...</td>\n",
              "      <td>Bachelor of Vocation (B.Voc.)</td>\n",
              "      <td>Software Engineering</td>\n",
              "      <td>2021</td>\n",
              "      <td>NaN</td>\n",
              "      <td>6.50/7</td>\n",
              "      <td>NaN</td>\n",
              "      <td>NaN</td>\n",
              "    </tr>\n",
              "    <tr>\n",
              "      <th>1</th>\n",
              "      <td>NaN</td>\n",
              "      <td>2</td>\n",
              "      <td>0</td>\n",
              "      <td>0</td>\n",
              "      <td>0</td>\n",
              "      <td>Git, GitHub, Linux, Adobe After Effects, Adobe...</td>\n",
              "      <td>Yes, I am available for 3 months starting imme...</td>\n",
              "      <td>B.Tech</td>\n",
              "      <td>Computer Science &amp; Engineering</td>\n",
              "      <td>2024</td>\n",
              "      <td>NaN</td>\n",
              "      <td>8.90/10</td>\n",
              "      <td>NaN</td>\n",
              "      <td>NaN</td>\n",
              "    </tr>\n",
              "    <tr>\n",
              "      <th>2</th>\n",
              "      <td>NaN</td>\n",
              "      <td>2</td>\n",
              "      <td>2</td>\n",
              "      <td>0</td>\n",
              "      <td>0</td>\n",
              "      <td>Amazon Web Services (AWS), Docker, Hadoop, MS-...</td>\n",
              "      <td>Yes, I am available for 3 months starting imme...</td>\n",
              "      <td>Master of Science (M.S.)</td>\n",
              "      <td>Data Science And Analytics</td>\n",
              "      <td>2022</td>\n",
              "      <td>NaN</td>\n",
              "      <td>NaN</td>\n",
              "      <td>NaN</td>\n",
              "      <td>NaN</td>\n",
              "    </tr>\n",
              "    <tr>\n",
              "      <th>3</th>\n",
              "      <td>NaN</td>\n",
              "      <td>3</td>\n",
              "      <td>2</td>\n",
              "      <td>2</td>\n",
              "      <td>0</td>\n",
              "      <td>Adobe XD, BIG DATA ANALYTICS, Canva, Data Anal...</td>\n",
              "      <td>Yes, I am available for 3 months starting imme...</td>\n",
              "      <td>Bachelor of Engineering (B.E)</td>\n",
              "      <td>NaN</td>\n",
              "      <td>2024</td>\n",
              "      <td>NaN</td>\n",
              "      <td>NaN</td>\n",
              "      <td>85.60/85.60</td>\n",
              "      <td>10.00/10.00</td>\n",
              "    </tr>\n",
              "    <tr>\n",
              "      <th>4</th>\n",
              "      <td>NaN</td>\n",
              "      <td>2</td>\n",
              "      <td>2</td>\n",
              "      <td>0</td>\n",
              "      <td>0</td>\n",
              "      <td>C++ Programming, Data Science, Machine Learnin...</td>\n",
              "      <td>Yes, I am available for 3 months starting imme...</td>\n",
              "      <td>B.Tech</td>\n",
              "      <td>Computer Science</td>\n",
              "      <td>2023</td>\n",
              "      <td>NaN</td>\n",
              "      <td>8.10/10</td>\n",
              "      <td>93.40/93.40</td>\n",
              "      <td>10.00/10.00</td>\n",
              "    </tr>\n",
              "    <tr>\n",
              "      <th>...</th>\n",
              "      <td>...</td>\n",
              "      <td>...</td>\n",
              "      <td>...</td>\n",
              "      <td>...</td>\n",
              "      <td>...</td>\n",
              "      <td>...</td>\n",
              "      <td>...</td>\n",
              "      <td>...</td>\n",
              "      <td>...</td>\n",
              "      <td>...</td>\n",
              "      <td>...</td>\n",
              "      <td>...</td>\n",
              "      <td>...</td>\n",
              "      <td>...</td>\n",
              "    </tr>\n",
              "    <tr>\n",
              "      <th>1131</th>\n",
              "      <td>NaN</td>\n",
              "      <td>2</td>\n",
              "      <td>2</td>\n",
              "      <td>0</td>\n",
              "      <td>2</td>\n",
              "      <td>Data Analytics, Amazon Web Services (AWS), Dat...</td>\n",
              "      <td>Yes, I am available for 3 months starting imme...</td>\n",
              "      <td>B.Tech</td>\n",
              "      <td>Mechanical Engineering</td>\n",
              "      <td>2021</td>\n",
              "      <td>NaN</td>\n",
              "      <td>NaN</td>\n",
              "      <td>NaN</td>\n",
              "      <td>NaN</td>\n",
              "    </tr>\n",
              "    <tr>\n",
              "      <th>1132</th>\n",
              "      <td>NaN</td>\n",
              "      <td>3</td>\n",
              "      <td>3</td>\n",
              "      <td>2</td>\n",
              "      <td>3</td>\n",
              "      <td>Deep Learning, Docker, HTML, MS-Office, Machin...</td>\n",
              "      <td>Yes, I am available for 3 months starting imme...</td>\n",
              "      <td>B.Tech</td>\n",
              "      <td>Computer Science &amp; Engineering</td>\n",
              "      <td>2024</td>\n",
              "      <td>NaN</td>\n",
              "      <td>NaN</td>\n",
              "      <td>NaN</td>\n",
              "      <td>NaN</td>\n",
              "    </tr>\n",
              "    <tr>\n",
              "      <th>1133</th>\n",
              "      <td>NaN</td>\n",
              "      <td>3</td>\n",
              "      <td>1</td>\n",
              "      <td>3</td>\n",
              "      <td>3</td>\n",
              "      <td>Data Science, Deep Learning, English Proficien...</td>\n",
              "      <td>Yes, I am available for 3 months starting imme...</td>\n",
              "      <td>B.Tech</td>\n",
              "      <td>Electronics and Communication</td>\n",
              "      <td>2025</td>\n",
              "      <td>NaN</td>\n",
              "      <td>8.77/10</td>\n",
              "      <td>9.40/9.40</td>\n",
              "      <td>NaN</td>\n",
              "    </tr>\n",
              "    <tr>\n",
              "      <th>1134</th>\n",
              "      <td>NaN</td>\n",
              "      <td>2</td>\n",
              "      <td>1</td>\n",
              "      <td>0</td>\n",
              "      <td>0</td>\n",
              "      <td>Python, Data Analytics, MS-Excel, Machine Lear...</td>\n",
              "      <td>Yes, I am available for 3 months starting imme...</td>\n",
              "      <td>B.Tech</td>\n",
              "      <td>Computer Science</td>\n",
              "      <td>2024</td>\n",
              "      <td>NaN</td>\n",
              "      <td>7.90/10</td>\n",
              "      <td>90.00/90.00</td>\n",
              "      <td>NaN</td>\n",
              "    </tr>\n",
              "    <tr>\n",
              "      <th>1135</th>\n",
              "      <td>NaN</td>\n",
              "      <td>2</td>\n",
              "      <td>0</td>\n",
              "      <td>0</td>\n",
              "      <td>0</td>\n",
              "      <td>C++ Programming, Database Management System (D...</td>\n",
              "      <td>Yes, I am available for 3 months starting imme...</td>\n",
              "      <td>B.Tech</td>\n",
              "      <td>Engineering</td>\n",
              "      <td>2024</td>\n",
              "      <td>NaN</td>\n",
              "      <td>NaN</td>\n",
              "      <td>NaN</td>\n",
              "      <td>NaN</td>\n",
              "    </tr>\n",
              "  </tbody>\n",
              "</table>\n",
              "<p>1136 rows × 14 columns</p>\n",
              "</div>\n",
              "      <button class=\"colab-df-convert\" onclick=\"convertToInteractive('df-bdff10a7-0313-4da6-937b-952940cc101d')\"\n",
              "              title=\"Convert this dataframe to an interactive table.\"\n",
              "              style=\"display:none;\">\n",
              "        \n",
              "  <svg xmlns=\"http://www.w3.org/2000/svg\" height=\"24px\"viewBox=\"0 0 24 24\"\n",
              "       width=\"24px\">\n",
              "    <path d=\"M0 0h24v24H0V0z\" fill=\"none\"/>\n",
              "    <path d=\"M18.56 5.44l.94 2.06.94-2.06 2.06-.94-2.06-.94-.94-2.06-.94 2.06-2.06.94zm-11 1L8.5 8.5l.94-2.06 2.06-.94-2.06-.94L8.5 2.5l-.94 2.06-2.06.94zm10 10l.94 2.06.94-2.06 2.06-.94-2.06-.94-.94-2.06-.94 2.06-2.06.94z\"/><path d=\"M17.41 7.96l-1.37-1.37c-.4-.4-.92-.59-1.43-.59-.52 0-1.04.2-1.43.59L10.3 9.45l-7.72 7.72c-.78.78-.78 2.05 0 2.83L4 21.41c.39.39.9.59 1.41.59.51 0 1.02-.2 1.41-.59l7.78-7.78 2.81-2.81c.8-.78.8-2.07 0-2.86zM5.41 20L4 18.59l7.72-7.72 1.47 1.35L5.41 20z\"/>\n",
              "  </svg>\n",
              "      </button>\n",
              "      \n",
              "  <style>\n",
              "    .colab-df-container {\n",
              "      display:flex;\n",
              "      flex-wrap:wrap;\n",
              "      gap: 12px;\n",
              "    }\n",
              "\n",
              "    .colab-df-convert {\n",
              "      background-color: #E8F0FE;\n",
              "      border: none;\n",
              "      border-radius: 50%;\n",
              "      cursor: pointer;\n",
              "      display: none;\n",
              "      fill: #1967D2;\n",
              "      height: 32px;\n",
              "      padding: 0 0 0 0;\n",
              "      width: 32px;\n",
              "    }\n",
              "\n",
              "    .colab-df-convert:hover {\n",
              "      background-color: #E2EBFA;\n",
              "      box-shadow: 0px 1px 2px rgba(60, 64, 67, 0.3), 0px 1px 3px 1px rgba(60, 64, 67, 0.15);\n",
              "      fill: #174EA6;\n",
              "    }\n",
              "\n",
              "    [theme=dark] .colab-df-convert {\n",
              "      background-color: #3B4455;\n",
              "      fill: #D2E3FC;\n",
              "    }\n",
              "\n",
              "    [theme=dark] .colab-df-convert:hover {\n",
              "      background-color: #434B5C;\n",
              "      box-shadow: 0px 1px 3px 1px rgba(0, 0, 0, 0.15);\n",
              "      filter: drop-shadow(0px 1px 2px rgba(0, 0, 0, 0.3));\n",
              "      fill: #FFFFFF;\n",
              "    }\n",
              "  </style>\n",
              "\n",
              "      <script>\n",
              "        const buttonEl =\n",
              "          document.querySelector('#df-bdff10a7-0313-4da6-937b-952940cc101d button.colab-df-convert');\n",
              "        buttonEl.style.display =\n",
              "          google.colab.kernel.accessAllowed ? 'block' : 'none';\n",
              "\n",
              "        async function convertToInteractive(key) {\n",
              "          const element = document.querySelector('#df-bdff10a7-0313-4da6-937b-952940cc101d');\n",
              "          const dataTable =\n",
              "            await google.colab.kernel.invokeFunction('convertToInteractive',\n",
              "                                                     [key], {});\n",
              "          if (!dataTable) return;\n",
              "\n",
              "          const docLinkHtml = 'Like what you see? Visit the ' +\n",
              "            '<a target=\"_blank\" href=https://colab.research.google.com/notebooks/data_table.ipynb>data table notebook</a>'\n",
              "            + ' to learn more about interactive tables.';\n",
              "          element.innerHTML = '';\n",
              "          dataTable['output_type'] = 'display_data';\n",
              "          await google.colab.output.renderOutput(dataTable, element);\n",
              "          const docLink = document.createElement('div');\n",
              "          docLink.innerHTML = docLinkHtml;\n",
              "          element.appendChild(docLink);\n",
              "        }\n",
              "      </script>\n",
              "    </div>\n",
              "  </div>\n",
              "  "
            ]
          },
          "metadata": {},
          "execution_count": 4
        }
      ],
      "source": [
        "df = pd.read_excel(\"/content/drive/MyDrive/Digipplus/Applications_for_Machine_Learning_internship_edited.xlsx\")\n",
        "df"
      ]
    },
    {
      "cell_type": "markdown",
      "source": [
        "#Checking for null values"
      ],
      "metadata": {
        "id": "Sx_P22SagGz6"
      },
      "id": "Sx_P22SagGz6"
    },
    {
      "cell_type": "code",
      "execution_count": 5,
      "id": "697c0b0e",
      "metadata": {
        "colab": {
          "base_uri": "https://localhost:8080/"
        },
        "id": "697c0b0e",
        "outputId": "5be44f6e-e4bb-447e-eade-91ca629db0a5"
      },
      "outputs": [
        {
          "output_type": "execute_result",
          "data": {
            "text/plain": [
              "Name                                                                                                 100.000000\n",
              "Python (out of 3)                                                                                      0.000000\n",
              "Machine Learning (out of 3)                                                                            0.000000\n",
              "Natural Language Processing (NLP) (out of 3)                                                           0.000000\n",
              "Deep Learning (out of 3)                                                                               0.000000\n",
              "Other skills                                                                                           5.809859\n",
              "Are you available for 3 months, starting immediately, for a full-time work from home internship?       0.000000\n",
              "Degree                                                                                                 3.785211\n",
              "Stream                                                                                                14.964789\n",
              "Current Year Of Graduation                                                                             0.000000\n",
              "Performance_PG                                                                                        83.802817\n",
              "Performance_UG                                                                                        57.570423\n",
              "Performance_12                                                                                        56.602113\n",
              "Performance_10                                                                                        62.411972\n",
              "dtype: float64"
            ]
          },
          "metadata": {},
          "execution_count": 5
        }
      ],
      "source": [
        "\n",
        "100*df.isnull().mean()"
      ]
    },
    {
      "cell_type": "markdown",
      "source": [
        "# selecting columns having null values > 50%\n",
        "\n",
        "# Including the 'Name' column also as it is completely empty, this may not be the case in all scenarios"
      ],
      "metadata": {
        "id": "EMy-BYv4gKC4"
      },
      "id": "EMy-BYv4gKC4"
    },
    {
      "cell_type": "code",
      "execution_count": 6,
      "id": "6e7433db",
      "metadata": {
        "id": "6e7433db"
      },
      "outputs": [],
      "source": [
        "\n",
        "cols=['Name','Performance_PG','Performance_UG','Performance_12','Performance_10']"
      ]
    },
    {
      "cell_type": "markdown",
      "source": [
        "# dropping the columns having null values > 50%\n"
      ],
      "metadata": {
        "id": "iGCzKXWhgPmA"
      },
      "id": "iGCzKXWhgPmA"
    },
    {
      "cell_type": "code",
      "execution_count": 7,
      "id": "e4389ff5",
      "metadata": {
        "colab": {
          "base_uri": "https://localhost:8080/",
          "height": 814
        },
        "id": "e4389ff5",
        "outputId": "93e410d9-95a2-471f-f5d9-e3d782918f52"
      },
      "outputs": [
        {
          "output_type": "execute_result",
          "data": {
            "text/plain": [
              "      Python (out of 3)  Machine Learning (out of 3)  \\\n",
              "0                     1                            0   \n",
              "1                     2                            0   \n",
              "2                     2                            2   \n",
              "3                     3                            2   \n",
              "4                     2                            2   \n",
              "...                 ...                          ...   \n",
              "1131                  2                            2   \n",
              "1132                  3                            3   \n",
              "1133                  3                            1   \n",
              "1134                  2                            1   \n",
              "1135                  2                            0   \n",
              "\n",
              "      Natural Language Processing (NLP) (out of 3)  Deep Learning (out of 3)  \\\n",
              "0                                                0                         1   \n",
              "1                                                0                         0   \n",
              "2                                                0                         0   \n",
              "3                                                2                         0   \n",
              "4                                                0                         0   \n",
              "...                                            ...                       ...   \n",
              "1131                                             0                         2   \n",
              "1132                                             2                         3   \n",
              "1133                                             3                         3   \n",
              "1134                                             0                         0   \n",
              "1135                                             0                         0   \n",
              "\n",
              "                                           Other skills  \\\n",
              "0     MS-Excel, MS-Word, Deep Learning, MySQL, Pytho...   \n",
              "1     Git, GitHub, Linux, Adobe After Effects, Adobe...   \n",
              "2     Amazon Web Services (AWS), Docker, Hadoop, MS-...   \n",
              "3     Adobe XD, BIG DATA ANALYTICS, Canva, Data Anal...   \n",
              "4     C++ Programming, Data Science, Machine Learnin...   \n",
              "...                                                 ...   \n",
              "1131  Data Analytics, Amazon Web Services (AWS), Dat...   \n",
              "1132  Deep Learning, Docker, HTML, MS-Office, Machin...   \n",
              "1133  Data Science, Deep Learning, English Proficien...   \n",
              "1134  Python, Data Analytics, MS-Excel, Machine Lear...   \n",
              "1135  C++ Programming, Database Management System (D...   \n",
              "\n",
              "     Are you available for 3 months, starting immediately, for a full-time work from home internship?   \\\n",
              "0     Yes, I am available for 3 months starting imme...                                                  \n",
              "1     Yes, I am available for 3 months starting imme...                                                  \n",
              "2     Yes, I am available for 3 months starting imme...                                                  \n",
              "3     Yes, I am available for 3 months starting imme...                                                  \n",
              "4     Yes, I am available for 3 months starting imme...                                                  \n",
              "...                                                 ...                                                  \n",
              "1131  Yes, I am available for 3 months starting imme...                                                  \n",
              "1132  Yes, I am available for 3 months starting imme...                                                  \n",
              "1133  Yes, I am available for 3 months starting imme...                                                  \n",
              "1134  Yes, I am available for 3 months starting imme...                                                  \n",
              "1135  Yes, I am available for 3 months starting imme...                                                  \n",
              "\n",
              "                             Degree                          Stream  \\\n",
              "0     Bachelor of Vocation (B.Voc.)            Software Engineering   \n",
              "1                            B.Tech  Computer Science & Engineering   \n",
              "2          Master of Science (M.S.)      Data Science And Analytics   \n",
              "3     Bachelor of Engineering (B.E)                             NaN   \n",
              "4                            B.Tech                Computer Science   \n",
              "...                             ...                             ...   \n",
              "1131                         B.Tech          Mechanical Engineering   \n",
              "1132                         B.Tech  Computer Science & Engineering   \n",
              "1133                         B.Tech   Electronics and Communication   \n",
              "1134                         B.Tech                Computer Science   \n",
              "1135                         B.Tech                     Engineering   \n",
              "\n",
              "      Current Year Of Graduation  \n",
              "0                           2021  \n",
              "1                           2024  \n",
              "2                           2022  \n",
              "3                           2024  \n",
              "4                           2023  \n",
              "...                          ...  \n",
              "1131                        2021  \n",
              "1132                        2024  \n",
              "1133                        2025  \n",
              "1134                        2024  \n",
              "1135                        2024  \n",
              "\n",
              "[1136 rows x 9 columns]"
            ],
            "text/html": [
              "\n",
              "  <div id=\"df-6ed22f88-5202-4fee-b85e-71e65abd5925\">\n",
              "    <div class=\"colab-df-container\">\n",
              "      <div>\n",
              "<style scoped>\n",
              "    .dataframe tbody tr th:only-of-type {\n",
              "        vertical-align: middle;\n",
              "    }\n",
              "\n",
              "    .dataframe tbody tr th {\n",
              "        vertical-align: top;\n",
              "    }\n",
              "\n",
              "    .dataframe thead th {\n",
              "        text-align: right;\n",
              "    }\n",
              "</style>\n",
              "<table border=\"1\" class=\"dataframe\">\n",
              "  <thead>\n",
              "    <tr style=\"text-align: right;\">\n",
              "      <th></th>\n",
              "      <th>Python (out of 3)</th>\n",
              "      <th>Machine Learning (out of 3)</th>\n",
              "      <th>Natural Language Processing (NLP) (out of 3)</th>\n",
              "      <th>Deep Learning (out of 3)</th>\n",
              "      <th>Other skills</th>\n",
              "      <th>Are you available for 3 months, starting immediately, for a full-time work from home internship?</th>\n",
              "      <th>Degree</th>\n",
              "      <th>Stream</th>\n",
              "      <th>Current Year Of Graduation</th>\n",
              "    </tr>\n",
              "  </thead>\n",
              "  <tbody>\n",
              "    <tr>\n",
              "      <th>0</th>\n",
              "      <td>1</td>\n",
              "      <td>0</td>\n",
              "      <td>0</td>\n",
              "      <td>1</td>\n",
              "      <td>MS-Excel, MS-Word, Deep Learning, MySQL, Pytho...</td>\n",
              "      <td>Yes, I am available for 3 months starting imme...</td>\n",
              "      <td>Bachelor of Vocation (B.Voc.)</td>\n",
              "      <td>Software Engineering</td>\n",
              "      <td>2021</td>\n",
              "    </tr>\n",
              "    <tr>\n",
              "      <th>1</th>\n",
              "      <td>2</td>\n",
              "      <td>0</td>\n",
              "      <td>0</td>\n",
              "      <td>0</td>\n",
              "      <td>Git, GitHub, Linux, Adobe After Effects, Adobe...</td>\n",
              "      <td>Yes, I am available for 3 months starting imme...</td>\n",
              "      <td>B.Tech</td>\n",
              "      <td>Computer Science &amp; Engineering</td>\n",
              "      <td>2024</td>\n",
              "    </tr>\n",
              "    <tr>\n",
              "      <th>2</th>\n",
              "      <td>2</td>\n",
              "      <td>2</td>\n",
              "      <td>0</td>\n",
              "      <td>0</td>\n",
              "      <td>Amazon Web Services (AWS), Docker, Hadoop, MS-...</td>\n",
              "      <td>Yes, I am available for 3 months starting imme...</td>\n",
              "      <td>Master of Science (M.S.)</td>\n",
              "      <td>Data Science And Analytics</td>\n",
              "      <td>2022</td>\n",
              "    </tr>\n",
              "    <tr>\n",
              "      <th>3</th>\n",
              "      <td>3</td>\n",
              "      <td>2</td>\n",
              "      <td>2</td>\n",
              "      <td>0</td>\n",
              "      <td>Adobe XD, BIG DATA ANALYTICS, Canva, Data Anal...</td>\n",
              "      <td>Yes, I am available for 3 months starting imme...</td>\n",
              "      <td>Bachelor of Engineering (B.E)</td>\n",
              "      <td>NaN</td>\n",
              "      <td>2024</td>\n",
              "    </tr>\n",
              "    <tr>\n",
              "      <th>4</th>\n",
              "      <td>2</td>\n",
              "      <td>2</td>\n",
              "      <td>0</td>\n",
              "      <td>0</td>\n",
              "      <td>C++ Programming, Data Science, Machine Learnin...</td>\n",
              "      <td>Yes, I am available for 3 months starting imme...</td>\n",
              "      <td>B.Tech</td>\n",
              "      <td>Computer Science</td>\n",
              "      <td>2023</td>\n",
              "    </tr>\n",
              "    <tr>\n",
              "      <th>...</th>\n",
              "      <td>...</td>\n",
              "      <td>...</td>\n",
              "      <td>...</td>\n",
              "      <td>...</td>\n",
              "      <td>...</td>\n",
              "      <td>...</td>\n",
              "      <td>...</td>\n",
              "      <td>...</td>\n",
              "      <td>...</td>\n",
              "    </tr>\n",
              "    <tr>\n",
              "      <th>1131</th>\n",
              "      <td>2</td>\n",
              "      <td>2</td>\n",
              "      <td>0</td>\n",
              "      <td>2</td>\n",
              "      <td>Data Analytics, Amazon Web Services (AWS), Dat...</td>\n",
              "      <td>Yes, I am available for 3 months starting imme...</td>\n",
              "      <td>B.Tech</td>\n",
              "      <td>Mechanical Engineering</td>\n",
              "      <td>2021</td>\n",
              "    </tr>\n",
              "    <tr>\n",
              "      <th>1132</th>\n",
              "      <td>3</td>\n",
              "      <td>3</td>\n",
              "      <td>2</td>\n",
              "      <td>3</td>\n",
              "      <td>Deep Learning, Docker, HTML, MS-Office, Machin...</td>\n",
              "      <td>Yes, I am available for 3 months starting imme...</td>\n",
              "      <td>B.Tech</td>\n",
              "      <td>Computer Science &amp; Engineering</td>\n",
              "      <td>2024</td>\n",
              "    </tr>\n",
              "    <tr>\n",
              "      <th>1133</th>\n",
              "      <td>3</td>\n",
              "      <td>1</td>\n",
              "      <td>3</td>\n",
              "      <td>3</td>\n",
              "      <td>Data Science, Deep Learning, English Proficien...</td>\n",
              "      <td>Yes, I am available for 3 months starting imme...</td>\n",
              "      <td>B.Tech</td>\n",
              "      <td>Electronics and Communication</td>\n",
              "      <td>2025</td>\n",
              "    </tr>\n",
              "    <tr>\n",
              "      <th>1134</th>\n",
              "      <td>2</td>\n",
              "      <td>1</td>\n",
              "      <td>0</td>\n",
              "      <td>0</td>\n",
              "      <td>Python, Data Analytics, MS-Excel, Machine Lear...</td>\n",
              "      <td>Yes, I am available for 3 months starting imme...</td>\n",
              "      <td>B.Tech</td>\n",
              "      <td>Computer Science</td>\n",
              "      <td>2024</td>\n",
              "    </tr>\n",
              "    <tr>\n",
              "      <th>1135</th>\n",
              "      <td>2</td>\n",
              "      <td>0</td>\n",
              "      <td>0</td>\n",
              "      <td>0</td>\n",
              "      <td>C++ Programming, Database Management System (D...</td>\n",
              "      <td>Yes, I am available for 3 months starting imme...</td>\n",
              "      <td>B.Tech</td>\n",
              "      <td>Engineering</td>\n",
              "      <td>2024</td>\n",
              "    </tr>\n",
              "  </tbody>\n",
              "</table>\n",
              "<p>1136 rows × 9 columns</p>\n",
              "</div>\n",
              "      <button class=\"colab-df-convert\" onclick=\"convertToInteractive('df-6ed22f88-5202-4fee-b85e-71e65abd5925')\"\n",
              "              title=\"Convert this dataframe to an interactive table.\"\n",
              "              style=\"display:none;\">\n",
              "        \n",
              "  <svg xmlns=\"http://www.w3.org/2000/svg\" height=\"24px\"viewBox=\"0 0 24 24\"\n",
              "       width=\"24px\">\n",
              "    <path d=\"M0 0h24v24H0V0z\" fill=\"none\"/>\n",
              "    <path d=\"M18.56 5.44l.94 2.06.94-2.06 2.06-.94-2.06-.94-.94-2.06-.94 2.06-2.06.94zm-11 1L8.5 8.5l.94-2.06 2.06-.94-2.06-.94L8.5 2.5l-.94 2.06-2.06.94zm10 10l.94 2.06.94-2.06 2.06-.94-2.06-.94-.94-2.06-.94 2.06-2.06.94z\"/><path d=\"M17.41 7.96l-1.37-1.37c-.4-.4-.92-.59-1.43-.59-.52 0-1.04.2-1.43.59L10.3 9.45l-7.72 7.72c-.78.78-.78 2.05 0 2.83L4 21.41c.39.39.9.59 1.41.59.51 0 1.02-.2 1.41-.59l7.78-7.78 2.81-2.81c.8-.78.8-2.07 0-2.86zM5.41 20L4 18.59l7.72-7.72 1.47 1.35L5.41 20z\"/>\n",
              "  </svg>\n",
              "      </button>\n",
              "      \n",
              "  <style>\n",
              "    .colab-df-container {\n",
              "      display:flex;\n",
              "      flex-wrap:wrap;\n",
              "      gap: 12px;\n",
              "    }\n",
              "\n",
              "    .colab-df-convert {\n",
              "      background-color: #E8F0FE;\n",
              "      border: none;\n",
              "      border-radius: 50%;\n",
              "      cursor: pointer;\n",
              "      display: none;\n",
              "      fill: #1967D2;\n",
              "      height: 32px;\n",
              "      padding: 0 0 0 0;\n",
              "      width: 32px;\n",
              "    }\n",
              "\n",
              "    .colab-df-convert:hover {\n",
              "      background-color: #E2EBFA;\n",
              "      box-shadow: 0px 1px 2px rgba(60, 64, 67, 0.3), 0px 1px 3px 1px rgba(60, 64, 67, 0.15);\n",
              "      fill: #174EA6;\n",
              "    }\n",
              "\n",
              "    [theme=dark] .colab-df-convert {\n",
              "      background-color: #3B4455;\n",
              "      fill: #D2E3FC;\n",
              "    }\n",
              "\n",
              "    [theme=dark] .colab-df-convert:hover {\n",
              "      background-color: #434B5C;\n",
              "      box-shadow: 0px 1px 3px 1px rgba(0, 0, 0, 0.15);\n",
              "      filter: drop-shadow(0px 1px 2px rgba(0, 0, 0, 0.3));\n",
              "      fill: #FFFFFF;\n",
              "    }\n",
              "  </style>\n",
              "\n",
              "      <script>\n",
              "        const buttonEl =\n",
              "          document.querySelector('#df-6ed22f88-5202-4fee-b85e-71e65abd5925 button.colab-df-convert');\n",
              "        buttonEl.style.display =\n",
              "          google.colab.kernel.accessAllowed ? 'block' : 'none';\n",
              "\n",
              "        async function convertToInteractive(key) {\n",
              "          const element = document.querySelector('#df-6ed22f88-5202-4fee-b85e-71e65abd5925');\n",
              "          const dataTable =\n",
              "            await google.colab.kernel.invokeFunction('convertToInteractive',\n",
              "                                                     [key], {});\n",
              "          if (!dataTable) return;\n",
              "\n",
              "          const docLinkHtml = 'Like what you see? Visit the ' +\n",
              "            '<a target=\"_blank\" href=https://colab.research.google.com/notebooks/data_table.ipynb>data table notebook</a>'\n",
              "            + ' to learn more about interactive tables.';\n",
              "          element.innerHTML = '';\n",
              "          dataTable['output_type'] = 'display_data';\n",
              "          await google.colab.output.renderOutput(dataTable, element);\n",
              "          const docLink = document.createElement('div');\n",
              "          docLink.innerHTML = docLinkHtml;\n",
              "          element.appendChild(docLink);\n",
              "        }\n",
              "      </script>\n",
              "    </div>\n",
              "  </div>\n",
              "  "
            ]
          },
          "metadata": {},
          "execution_count": 7
        }
      ],
      "source": [
        "df=df.drop(cols,axis=1)\n",
        "df"
      ]
    },
    {
      "cell_type": "code",
      "execution_count": 8,
      "id": "a3a6a152",
      "metadata": {
        "colab": {
          "base_uri": "https://localhost:8080/"
        },
        "id": "a3a6a152",
        "outputId": "c03b629f-6034-4fd4-c444-c81acd8093b8"
      },
      "outputs": [
        {
          "output_type": "execute_result",
          "data": {
            "text/plain": [
              "Stream                                                                                               14.964789\n",
              "Other skills                                                                                          5.809859\n",
              "Degree                                                                                                3.785211\n",
              "Python (out of 3)                                                                                     0.000000\n",
              "Machine Learning (out of 3)                                                                           0.000000\n",
              "Natural Language Processing (NLP) (out of 3)                                                          0.000000\n",
              "Deep Learning (out of 3)                                                                              0.000000\n",
              "Are you available for 3 months, starting immediately, for a full-time work from home internship?      0.000000\n",
              "Current Year Of Graduation                                                                            0.000000\n",
              "dtype: float64"
            ]
          },
          "metadata": {},
          "execution_count": 8
        }
      ],
      "source": [
        "100*df.isnull().mean().sort_values(ascending = False)"
      ]
    },
    {
      "cell_type": "markdown",
      "id": "aae98997",
      "metadata": {
        "id": "aae98997"
      },
      "source": [
        "#### Since 'Stream', 'Other Skills' & 'Degree' colums are subjective to candidate, imputing with mode value(as they are categorical columns) may not help in our analysis  "
      ]
    },
    {
      "cell_type": "code",
      "execution_count": 9,
      "id": "e55a9038",
      "metadata": {
        "colab": {
          "base_uri": "https://localhost:8080/"
        },
        "id": "e55a9038",
        "outputId": "bcbb41de-a68e-4abc-adfa-797693d3a20c"
      },
      "outputs": [
        {
          "output_type": "execute_result",
          "data": {
            "text/plain": [
              "Python (out of 3)                                                                                       4\n",
              "Machine Learning (out of 3)                                                                             4\n",
              "Natural Language Processing (NLP) (out of 3)                                                            4\n",
              "Deep Learning (out of 3)                                                                                4\n",
              "Other skills                                                                                         1057\n",
              "Are you available for 3 months, starting immediately, for a full-time work from home internship?       25\n",
              "Degree                                                                                                 91\n",
              "Stream                                                                                                186\n",
              "Current Year Of Graduation                                                                             22\n",
              "dtype: int64"
            ]
          },
          "metadata": {},
          "execution_count": 9
        }
      ],
      "source": [
        "df.nunique()"
      ]
    },
    {
      "cell_type": "markdown",
      "source": [
        "#Checking the average of 'Python (out of 3)' column of the applied candidates\n"
      ],
      "metadata": {
        "id": "0u5o_edsgcem"
      },
      "id": "0u5o_edsgcem"
    },
    {
      "cell_type": "code",
      "execution_count": 10,
      "id": "f6293570",
      "metadata": {
        "colab": {
          "base_uri": "https://localhost:8080/"
        },
        "id": "f6293570",
        "outputId": "68bc9835-5f2e-4677-dd09-89abc7868da2"
      },
      "outputs": [
        {
          "output_type": "execute_result",
          "data": {
            "text/plain": [
              "1.79"
            ]
          },
          "metadata": {},
          "execution_count": 10
        }
      ],
      "source": [
        "python_mean=round(np.mean(df['Python (out of 3)']),2)\n",
        "python_mean"
      ]
    },
    {
      "cell_type": "markdown",
      "source": [
        "#Checking the average of 'Machine Learning (out of 3)' column of the applied candidates\n"
      ],
      "metadata": {
        "id": "ImXV3xEkgfCl"
      },
      "id": "ImXV3xEkgfCl"
    },
    {
      "cell_type": "code",
      "execution_count": 11,
      "id": "1f534952",
      "metadata": {
        "colab": {
          "base_uri": "https://localhost:8080/"
        },
        "id": "1f534952",
        "outputId": "57e1e45e-0a0b-465c-da66-98087dbcddbe"
      },
      "outputs": [
        {
          "output_type": "execute_result",
          "data": {
            "text/plain": [
              "1.3"
            ]
          },
          "metadata": {},
          "execution_count": 11
        }
      ],
      "source": [
        "ML_mean=round(np.mean(df['Machine Learning (out of 3)']),2)\n",
        "ML_mean"
      ]
    },
    {
      "cell_type": "markdown",
      "source": [
        "#Checking the average of 'Natural Language Processing (NLP) (out of 3)' column of the applied candidates\n"
      ],
      "metadata": {
        "id": "FQaV6E17gh3x"
      },
      "id": "FQaV6E17gh3x"
    },
    {
      "cell_type": "code",
      "execution_count": 12,
      "id": "66c74c9a",
      "metadata": {
        "colab": {
          "base_uri": "https://localhost:8080/"
        },
        "id": "66c74c9a",
        "outputId": "f8cf4975-cd9e-4b56-b2b1-78a9b616a02d"
      },
      "outputs": [
        {
          "output_type": "execute_result",
          "data": {
            "text/plain": [
              "0.5"
            ]
          },
          "metadata": {},
          "execution_count": 12
        }
      ],
      "source": [
        "NLP_mean=round(np.mean(df['Natural Language Processing (NLP) (out of 3)']),2)\n",
        "NLP_mean"
      ]
    },
    {
      "cell_type": "markdown",
      "source": [
        "#Checking the average of 'Deep Learning (out of 3)' column of the applied candidates\n"
      ],
      "metadata": {
        "id": "k9NqbxulgkhZ"
      },
      "id": "k9NqbxulgkhZ"
    },
    {
      "cell_type": "code",
      "execution_count": 13,
      "id": "ee4210fa",
      "metadata": {
        "colab": {
          "base_uri": "https://localhost:8080/"
        },
        "id": "ee4210fa",
        "outputId": "6b54fb3e-c2a6-4ec4-e938-871ca937e295"
      },
      "outputs": [
        {
          "output_type": "execute_result",
          "data": {
            "text/plain": [
              "0.66"
            ]
          },
          "metadata": {},
          "execution_count": 13
        }
      ],
      "source": [
        "DL_mean=round(np.mean(df['Deep Learning (out of 3)']),2)\n",
        "DL_mean"
      ]
    },
    {
      "cell_type": "markdown",
      "source": [
        "# number of candidates having skills >=2 in ML\n"
      ],
      "metadata": {
        "id": "fzTb93ZOgmi0"
      },
      "id": "fzTb93ZOgmi0"
    },
    {
      "cell_type": "code",
      "execution_count": 14,
      "id": "cda196fd",
      "metadata": {
        "colab": {
          "base_uri": "https://localhost:8080/"
        },
        "id": "cda196fd",
        "outputId": "e5e3ccb6-f0ee-427c-ae92-4ba41d37b6eb"
      },
      "outputs": [
        {
          "output_type": "execute_result",
          "data": {
            "text/plain": [
              "590"
            ]
          },
          "metadata": {},
          "execution_count": 14
        }
      ],
      "source": [
        "np.sum((df['Machine Learning (out of 3)']>=2))"
      ]
    },
    {
      "cell_type": "markdown",
      "source": [
        "# percentage of candidates having skills >=2 in ML\n"
      ],
      "metadata": {
        "id": "Kc1tebkTgo_d"
      },
      "id": "Kc1tebkTgo_d"
    },
    {
      "cell_type": "code",
      "execution_count": 15,
      "id": "12b82906",
      "metadata": {
        "colab": {
          "base_uri": "https://localhost:8080/"
        },
        "id": "12b82906",
        "outputId": "2726ad2f-3d8e-49ca-ef83-7d90b8c7f4ee"
      },
      "outputs": [
        {
          "output_type": "execute_result",
          "data": {
            "text/plain": [
              "51.93661971830986"
            ]
          },
          "metadata": {},
          "execution_count": 15
        }
      ],
      "source": [
        "590/1136 *100"
      ]
    },
    {
      "cell_type": "code",
      "execution_count": 16,
      "id": "4b815e7b",
      "metadata": {
        "colab": {
          "base_uri": "https://localhost:8080/",
          "height": 676
        },
        "id": "4b815e7b",
        "outputId": "c96fbbcc-b02d-4981-fab7-8565d600f04a"
      },
      "outputs": [
        {
          "output_type": "display_data",
          "data": {
            "text/plain": [
              "<Figure size 1200x800 with 4 Axes>"
            ],
            "image/png": "[encoded data removed]"
          },
          "metadata": {}
        }
      ],
      "source": [
        "plt.figure(figsize=(12,8))\n",
        "plt.subplot(2,2,1)\n",
        "sns.countplot(df['Python (out of 3)'])\n",
        "plt.subplot(2,2,2)\n",
        "sns.countplot(df['Machine Learning (out of 3)'])\n",
        "plt.subplot(2,2,3)\n",
        "sns.countplot(df['Natural Language Processing (NLP) (out of 3)'])\n",
        "plt.subplot(2,2,4)\n",
        "sns.countplot(df['Deep Learning (out of 3)'])\n",
        "plt.show()"
      ]
    },
    {
      "cell_type": "markdown",
      "id": "4a3eaee9",
      "metadata": {
        "id": "4a3eaee9"
      },
      "source": [
        "* Majority of the candidates have skills >=2 in Python\n",
        "* Only around half of the Candidates(52%) have skills >=2 in Machine Learning\n",
        "* Majority of the candidates have no skills in NLP & DL"
      ]
    },
    {
      "cell_type": "markdown",
      "source": [
        "#Filtering the rows/candidates who have skills below the average of all other applied cadidates\n"
      ],
      "metadata": {
        "id": "v_upU8iugv92"
      },
      "id": "v_upU8iugv92"
    },
    {
      "cell_type": "code",
      "execution_count": 17,
      "id": "43cab051",
      "metadata": {
        "scrolled": true,
        "colab": {
          "base_uri": "https://localhost:8080/",
          "height": 458
        },
        "id": "43cab051",
        "outputId": "e90b934e-7e27-4248-f32e-3fd2eb98b460"
      },
      "outputs": [
        {
          "output_type": "execute_result",
          "data": {
            "text/plain": [
              "    Python (out of 3)  Machine Learning (out of 3)  \\\n",
              "15                  2                            2   \n",
              "20                  3                            3   \n",
              "23                  2                            2   \n",
              "29                  2                            2   \n",
              "34                  3                            2   \n",
              "\n",
              "    Natural Language Processing (NLP) (out of 3)  Deep Learning (out of 3)  \\\n",
              "15                                             1                         2   \n",
              "20                                             3                         3   \n",
              "23                                             2                         1   \n",
              "29                                             1                         1   \n",
              "34                                             2                         2   \n",
              "\n",
              "                                         Other skills  \\\n",
              "15  Database Management System (DBMS), English Pro...   \n",
              "20  Data Analytics, Deep Learning, Flask, Image Pr...   \n",
              "23  C++ Programming, Chemistry, English Proficienc...   \n",
              "29  Cloud Computing, Amazon Web Services (AWS), C ...   \n",
              "34  Data Science, Database Management System (DBMS...   \n",
              "\n",
              "   Are you available for 3 months, starting immediately, for a full-time work from home internship?   \\\n",
              "15  Yes, I am available for 3 months starting imme...                                                  \n",
              "20  Yes, I am available for 3 months starting imme...                                                  \n",
              "23  Yes, I am available for 3 months starting imme...                                                  \n",
              "29  Yes, I am available for 3 months starting imme...                                                  \n",
              "34  Yes, I am available for 3 months starting imme...                                                  \n",
              "\n",
              "                                            Degree  \\\n",
              "15                 Bachelor of Technology (B.Tech)   \n",
              "20  Post Graduate Diploma in Management (P.G.D.M.)   \n",
              "23                                  B.Tech (Hons.)   \n",
              "29           Master of Computer Applications (MCA)   \n",
              "34                                Integrated M.Sc.   \n",
              "\n",
              "                                 Stream  Current Year Of Graduation  \n",
              "15       Computer Science & Engineering                        2024  \n",
              "20  Data Science And Business Analytics                        2022  \n",
              "23                     Computer Science                        2023  \n",
              "29           Networks And Communication                        2023  \n",
              "34                         Data Science                        2024  "
            ],
            "text/html": [
              "\n",
              "  <div id=\"df-be0006c8-f886-414d-803d-5e1035f6b723\">\n",
              "    <div class=\"colab-df-container\">\n",
              "      <div>\n",
              "<style scoped>\n",
              "    .dataframe tbody tr th:only-of-type {\n",
              "        vertical-align: middle;\n",
              "    }\n",
              "\n",
              "    .dataframe tbody tr th {\n",
              "        vertical-align: top;\n",
              "    }\n",
              "\n",
              "    .dataframe thead th {\n",
              "        text-align: right;\n",
              "    }\n",
              "</style>\n",
              "<table border=\"1\" class=\"dataframe\">\n",
              "  <thead>\n",
              "    <tr style=\"text-align: right;\">\n",
              "      <th></th>\n",
              "      <th>Python (out of 3)</th>\n",
              "      <th>Machine Learning (out of 3)</th>\n",
              "      <th>Natural Language Processing (NLP) (out of 3)</th>\n",
              "      <th>Deep Learning (out of 3)</th>\n",
              "      <th>Other skills</th>\n",
              "      <th>Are you available for 3 months, starting immediately, for a full-time work from home internship?</th>\n",
              "      <th>Degree</th>\n",
              "      <th>Stream</th>\n",
              "      <th>Current Year Of Graduation</th>\n",
              "    </tr>\n",
              "  </thead>\n",
              "  <tbody>\n",
              "    <tr>\n",
              "      <th>15</th>\n",
              "      <td>2</td>\n",
              "      <td>2</td>\n",
              "      <td>1</td>\n",
              "      <td>2</td>\n",
              "      <td>Database Management System (DBMS), English Pro...</td>\n",
              "      <td>Yes, I am available for 3 months starting imme...</td>\n",
              "      <td>Bachelor of Technology (B.Tech)</td>\n",
              "      <td>Computer Science &amp; Engineering</td>\n",
              "      <td>2024</td>\n",
              "    </tr>\n",
              "    <tr>\n",
              "      <th>20</th>\n",
              "      <td>3</td>\n",
              "      <td>3</td>\n",
              "      <td>3</td>\n",
              "      <td>3</td>\n",
              "      <td>Data Analytics, Deep Learning, Flask, Image Pr...</td>\n",
              "      <td>Yes, I am available for 3 months starting imme...</td>\n",
              "      <td>Post Graduate Diploma in Management (P.G.D.M.)</td>\n",
              "      <td>Data Science And Business Analytics</td>\n",
              "      <td>2022</td>\n",
              "    </tr>\n",
              "    <tr>\n",
              "      <th>23</th>\n",
              "      <td>2</td>\n",
              "      <td>2</td>\n",
              "      <td>2</td>\n",
              "      <td>1</td>\n",
              "      <td>C++ Programming, Chemistry, English Proficienc...</td>\n",
              "      <td>Yes, I am available for 3 months starting imme...</td>\n",
              "      <td>B.Tech (Hons.)</td>\n",
              "      <td>Computer Science</td>\n",
              "      <td>2023</td>\n",
              "    </tr>\n",
              "    <tr>\n",
              "      <th>29</th>\n",
              "      <td>2</td>\n",
              "      <td>2</td>\n",
              "      <td>1</td>\n",
              "      <td>1</td>\n",
              "      <td>Cloud Computing, Amazon Web Services (AWS), C ...</td>\n",
              "      <td>Yes, I am available for 3 months starting imme...</td>\n",
              "      <td>Master of Computer Applications (MCA)</td>\n",
              "      <td>Networks And Communication</td>\n",
              "      <td>2023</td>\n",
              "    </tr>\n",
              "    <tr>\n",
              "      <th>34</th>\n",
              "      <td>3</td>\n",
              "      <td>2</td>\n",
              "      <td>2</td>\n",
              "      <td>2</td>\n",
              "      <td>Data Science, Database Management System (DBMS...</td>\n",
              "      <td>Yes, I am available for 3 months starting imme...</td>\n",
              "      <td>Integrated M.Sc.</td>\n",
              "      <td>Data Science</td>\n",
              "      <td>2024</td>\n",
              "    </tr>\n",
              "  </tbody>\n",
              "</table>\n",
              "</div>\n",
              "      <button class=\"colab-df-convert\" onclick=\"convertToInteractive('df-be0006c8-f886-414d-803d-5e1035f6b723')\"\n",
              "              title=\"Convert this dataframe to an interactive table.\"\n",
              "              style=\"display:none;\">\n",
              "        \n",
              "  <svg xmlns=\"http://www.w3.org/2000/svg\" height=\"24px\"viewBox=\"0 0 24 24\"\n",
              "       width=\"24px\">\n",
              "    <path d=\"M0 0h24v24H0V0z\" fill=\"none\"/>\n",
              "    <path d=\"M18.56 5.44l.94 2.06.94-2.06 2.06-.94-2.06-.94-.94-2.06-.94 2.06-2.06.94zm-11 1L8.5 8.5l.94-2.06 2.06-.94-2.06-.94L8.5 2.5l-.94 2.06-2.06.94zm10 10l.94 2.06.94-2.06 2.06-.94-2.06-.94-.94-2.06-.94 2.06-2.06.94z\"/><path d=\"M17.41 7.96l-1.37-1.37c-.4-.4-.92-.59-1.43-.59-.52 0-1.04.2-1.43.59L10.3 9.45l-7.72 7.72c-.78.78-.78 2.05 0 2.83L4 21.41c.39.39.9.59 1.41.59.51 0 1.02-.2 1.41-.59l7.78-7.78 2.81-2.81c.8-.78.8-2.07 0-2.86zM5.41 20L4 18.59l7.72-7.72 1.47 1.35L5.41 20z\"/>\n",
              "  </svg>\n",
              "      </button>\n",
              "      \n",
              "  <style>\n",
              "    .colab-df-container {\n",
              "      display:flex;\n",
              "      flex-wrap:wrap;\n",
              "      gap: 12px;\n",
              "    }\n",
              "\n",
              "    .colab-df-convert {\n",
              "      background-color: #E8F0FE;\n",
              "      border: none;\n",
              "      border-radius: 50%;\n",
              "      cursor: pointer;\n",
              "      display: none;\n",
              "      fill: #1967D2;\n",
              "      height: 32px;\n",
              "      padding: 0 0 0 0;\n",
              "      width: 32px;\n",
              "    }\n",
              "\n",
              "    .colab-df-convert:hover {\n",
              "      background-color: #E2EBFA;\n",
              "      box-shadow: 0px 1px 2px rgba(60, 64, 67, 0.3), 0px 1px 3px 1px rgba(60, 64, 67, 0.15);\n",
              "      fill: #174EA6;\n",
              "    }\n",
              "\n",
              "    [theme=dark] .colab-df-convert {\n",
              "      background-color: #3B4455;\n",
              "      fill: #D2E3FC;\n",
              "    }\n",
              "\n",
              "    [theme=dark] .colab-df-convert:hover {\n",
              "      background-color: #434B5C;\n",
              "      box-shadow: 0px 1px 3px 1px rgba(0, 0, 0, 0.15);\n",
              "      filter: drop-shadow(0px 1px 2px rgba(0, 0, 0, 0.3));\n",
              "      fill: #FFFFFF;\n",
              "    }\n",
              "  </style>\n",
              "\n",
              "      <script>\n",
              "        const buttonEl =\n",
              "          document.querySelector('#df-be0006c8-f886-414d-803d-5e1035f6b723 button.colab-df-convert');\n",
              "        buttonEl.style.display =\n",
              "          google.colab.kernel.accessAllowed ? 'block' : 'none';\n",
              "\n",
              "        async function convertToInteractive(key) {\n",
              "          const element = document.querySelector('#df-be0006c8-f886-414d-803d-5e1035f6b723');\n",
              "          const dataTable =\n",
              "            await google.colab.kernel.invokeFunction('convertToInteractive',\n",
              "                                                     [key], {});\n",
              "          if (!dataTable) return;\n",
              "\n",
              "          const docLinkHtml = 'Like what you see? Visit the ' +\n",
              "            '<a target=\"_blank\" href=https://colab.research.google.com/notebooks/data_table.ipynb>data table notebook</a>'\n",
              "            + ' to learn more about interactive tables.';\n",
              "          element.innerHTML = '';\n",
              "          dataTable['output_type'] = 'display_data';\n",
              "          await google.colab.output.renderOutput(dataTable, element);\n",
              "          const docLink = document.createElement('div');\n",
              "          docLink.innerHTML = docLinkHtml;\n",
              "          element.appendChild(docLink);\n",
              "        }\n",
              "      </script>\n",
              "    </div>\n",
              "  </div>\n",
              "  "
            ]
          },
          "metadata": {},
          "execution_count": 17
        }
      ],
      "source": [
        "filtered_df=df[(df['Python (out of 3)']>python_mean)&(df['Machine Learning (out of 3)']>ML_mean)&(df['Natural Language Processing (NLP) (out of 3)']>NLP_mean)&(df['Deep Learning (out of 3)']>DL_mean)]\n",
        "filtered_df.head()"
      ]
    },
    {
      "cell_type": "markdown",
      "source": [
        "#Filtering the candidates who aren't available for complete 3 months\n"
      ],
      "metadata": {
        "id": "FupwPHZPgzaW"
      },
      "id": "FupwPHZPgzaW"
    },
    {
      "cell_type": "code",
      "execution_count": 18,
      "id": "502b58ae",
      "metadata": {
        "id": "502b58ae"
      },
      "outputs": [],
      "source": [
        "filtered_df=filtered_df[(filtered_df['Are you available for 3 months, starting immediately, for a full-time work from home internship? '] == 'Yes, I am available for 3 months starting immediately for a full-time internship.')]"
      ]
    },
    {
      "cell_type": "code",
      "execution_count": 19,
      "id": "bda35b21",
      "metadata": {
        "colab": {
          "base_uri": "https://localhost:8080/"
        },
        "id": "bda35b21",
        "outputId": "b6e1cfbc-b8c9-483b-d997-ea1598742fed"
      },
      "outputs": [
        {
          "output_type": "execute_result",
          "data": {
            "text/plain": [
              "(200, 9)"
            ]
          },
          "metadata": {},
          "execution_count": 19
        }
      ],
      "source": [
        "filtered_df.shape"
      ]
    },
    {
      "cell_type": "code",
      "execution_count": 20,
      "id": "bc876c3e",
      "metadata": {
        "colab": {
          "base_uri": "https://localhost:8080/"
        },
        "id": "bc876c3e",
        "outputId": "1e948b8a-20b5-4cdd-ad1c-e889f5032ec8"
      },
      "outputs": [
        {
          "output_type": "execute_result",
          "data": {
            "text/plain": [
              "Python (out of 3)                                                                                      2\n",
              "Machine Learning (out of 3)                                                                            2\n",
              "Natural Language Processing (NLP) (out of 3)                                                           3\n",
              "Deep Learning (out of 3)                                                                               3\n",
              "Other skills                                                                                         200\n",
              "Are you available for 3 months, starting immediately, for a full-time work from home internship?       1\n",
              "Degree                                                                                                37\n",
              "Stream                                                                                                53\n",
              "Current Year Of Graduation                                                                            13\n",
              "dtype: int64"
            ]
          },
          "metadata": {},
          "execution_count": 20
        }
      ],
      "source": [
        "filtered_df.nunique()"
      ]
    },
    {
      "cell_type": "markdown",
      "source": [
        "# Saved the filtred candidates in an different excel sheet called \"Filtered_Candidates.xlsx\"\n"
      ],
      "metadata": {
        "id": "OTm43As_g6E3"
      },
      "id": "OTm43As_g6E3"
    },
    {
      "cell_type": "code",
      "execution_count": 21,
      "id": "11ad25ca",
      "metadata": {
        "id": "11ad25ca"
      },
      "outputs": [],
      "source": [
        "filtered_df.to_excel(\"Filtered_Candidates.xlsx\")"
      ]
    },
    {
      "cell_type": "markdown",
      "id": "7b0d413d",
      "metadata": {
        "id": "7b0d413d"
      },
      "source": [
        "# Conclusion & Recommendations"
      ]
    },
    {
      "cell_type": "markdown",
      "id": "1cab8e8f",
      "metadata": {
        "id": "1cab8e8f"
      },
      "source": [
        "1. Python Skills: An overwhelming majority of candidates possess a proficiency level of 2 or higher in Python, showcasing their expertise in this widely-used programming language.\n",
        "\n",
        "2. Machine Learning Aptitude: It's intriguing to note that only around 52% of the candidates demonstrate a skill level of 2 or above in Machine Learning, indicating a valuable differentiating factor among applicants.\n",
        "\n",
        "3. NLP & DL Proficiency Gap: A significant majority of candidates currently lack skills in Natural Language Processing (NLP) and Deep Learning (DL), presenting an opportunity for individuals with expertise in these areas to stand out.\n",
        "\n",
        "4. Tailored Filtering: The recruitment process allows for further customization by specifying the necessary degree or stream, enabling precise targeting of candidates who meet specific educational requirements.\n",
        "\n",
        "5. Incomplete Data: Unfortunately, the data collected lacks the necessary format to determine the percentage of candidates' performance in undergraduate, postgraduate, and secondary education, which could have provided deeper insights during the analysis.\n",
        "\n",
        "6. Streamlined Data Collection: To ensure accurate data collection, dropdown menus offering fixed options for degrees and streams would be beneficial, promoting consistency and ease of analysis.\n",
        "\n",
        "7. Unveiling 'Other Skills': The true potential and strength of candidates' 'Other Skills' can only be truly assessed through technical rounds or by assigning relevant tasks, uncovering hidden talents beyond the initial application stage."
      ]
    },
    {
      "cell_type": "code",
      "execution_count": null,
      "id": "669911e8",
      "metadata": {
        "id": "669911e8"
      },
      "outputs": [],
      "source": []
    }
  ],
  "metadata": {
    "kernelspec": {
      "display_name": "Python 3 (ipykernel)",
      "language": "python",
      "name": "python3"
    },
    "language_info": {
      "codemirror_mode": {
        "name": "ipython",
        "version": 3
      },
      "file_extension": ".py",
      "mimetype": "text/x-python",
      "name": "python",
      "nbconvert_exporter": "python",
      "pygments_lexer": "ipython3",
      "version": "3.9.12"
    },
    "colab": {
      "provenance": [],
      "include_colab_link": true
    }
  },
  "nbformat": 4,
  "nbformat_minor": 5
}